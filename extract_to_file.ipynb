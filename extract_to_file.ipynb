{
 "cells": [
  {
   "cell_type": "code",
   "execution_count": 21,
   "metadata": {},
   "outputs": [],
   "source": [
    "#import numpy as np\n",
    "#import pandas as pd\n",
    "import re\n",
    "import sqlite3\n",
    "\n",
    "db_con = sqlite3.connect(\"mydatabase.db\")\n",
    "\n",
    "# with this row_factory i get items returned instead of tuples with items:\n",
    "db_con.row_factory = lambda cursor, row: row[0]\n",
    "cursor = db_con.cursor()"
   ]
  },
  {
   "cell_type": "code",
   "execution_count": 174,
   "metadata": {},
   "outputs": [],
   "source": [
    "# defining what you will extract from the sqlite database\n",
    "# valid values are 'party', 'name' or 'funktion'\n",
    "extract_type = 'party'\n",
    "\n",
    "# valid values are partyid-s ('H', 'A', 'FrP', 'V', 'SV', 'Sp', 'KrF', 'MDG', 'R'), \n",
    "# fullnames ('Erna Solberg', 'Knut Arild Haredie') \n",
    "# name of elective function (statsråd, utenriksminister), \n",
    "# or 'unknown'/'ukjent'\n",
    "extract_value = 'KrF'"
   ]
  },
  {
   "cell_type": "code",
   "execution_count": null,
   "metadata": {},
   "outputs": [],
   "source": [
    "# for testing if i need to add more representatives\n",
    "# a lot of these are from invited speakers, or nonspecific names\n",
    "# but there are also a lot who are connected to a party\n",
    "# this can definetely be improved upon\n",
    "sql = \"SELECT maintext FROM corpus WHERE \" + extract_type + \"=?\" #  limit 100\n",
    "cursor.execute(sql, [(extract_value)]) # now renamed this ukjent\n",
    "\n",
    "# put list of eftched items in variable\n",
    "fetched_corpus = cursor.fetchall()\n",
    "\n",
    "#for item in fetched_corpus:\n",
    "    # gjøre ting\n",
    "\n",
    "processed_corpus = ' '.join(fetched_corpus)\n",
    "processed_corpus = processed_corpus.replace('�', ' ').replace('‒', '-').replace('\\u2005', \"'\").replace('⅓', '1/3'). \\\n",
    "    replace('⅔', '2/3').replace('\\u2009', ' ').replace('‑', '-').replace('ĳ', 'ij').replace('−', '-').replace('\\u2006', ' '). \\\n",
    "    replace('\\x85', 'è').replace('\\u200a', ' ').replace('\\u0301', \"'\").replace('\\u215b', '1/8').replace('\\u015f', 's'). \\\n",
    "    replace('\\u010d', 'c').replace('\\u2155', '1/5')\n",
    "\n",
    "print(len(processed_corpus))"
   ]
  },
  {
   "cell_type": "code",
   "execution_count": null,
   "metadata": {},
   "outputs": [],
   "source": [
    "# further testing or  preprosessing before write\n",
    "# file writing may give error with index of string\n",
    "processed_corpus[10017072:10017073]\n"
   ]
  },
  {
   "cell_type": "code",
   "execution_count": 173,
   "metadata": {},
   "outputs": [],
   "source": [
    "# write references which gave parse errors to a file \n",
    "thefile = open('data\\data_' + str(extract_value) + '_.txt', 'w')\n",
    "\n",
    "thefile.write(processed_corpus)\n",
    "\n",
    "thefile.close()"
   ]
  },
  {
   "cell_type": "code",
   "execution_count": 175,
   "metadata": {},
   "outputs": [],
   "source": [
    "db_con.close()"
   ]
  }
 ],
 "metadata": {
  "kernelspec": {
   "display_name": "Python 3",
   "language": "python",
   "name": "python3"
  },
  "language_info": {
   "codemirror_mode": {
    "name": "ipython",
    "version": 3
   },
   "file_extension": ".py",
   "mimetype": "text/x-python",
   "name": "python",
   "nbconvert_exporter": "python",
   "pygments_lexer": "ipython3",
   "version": "3.6.4"
  }
 },
 "nbformat": 4,
 "nbformat_minor": 2
}
